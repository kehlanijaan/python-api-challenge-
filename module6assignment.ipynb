{
 "cells": [
  {
   "cell_type": "code",
   "execution_count": 8,
   "id": "772a29a9-d2be-4fb6-91a6-2544dd9a2e15",
   "metadata": {},
   "outputs": [],
   "source": [
    "#Dependecies \n",
    "import requests \n",
    "import json"
   ]
  },
  {
   "cell_type": "code",
   "execution_count": 9,
   "id": "74fe4311-f902-488d-b0ed-25e458af4f01",
   "metadata": {},
   "outputs": [],
   "source": [
    "#URL for GET requests to retrieve weather data \n",
    "url = \"https://openweathermap.org/api\""
   ]
  },
  {
   "cell_type": "code",
   "execution_count": 10,
   "id": "d79fcaad-58fa-457a-bda0-66d9c2fe13c8",
   "metadata": {},
   "outputs": [
    {
     "name": "stdout",
     "output_type": "stream",
     "text": [
      "<Response [200]>\n"
     ]
    }
   ],
   "source": [
    "#Print the response object to the console \n",
    "print(requests.get(url))"
   ]
  },
  {
   "cell_type": "code",
   "execution_count": null,
   "id": "19b340fa-6915-4cb7-835d-0b3db273a568",
   "metadata": {},
   "outputs": [],
   "source": []
  },
  {
   "cell_type": "code",
   "execution_count": null,
   "id": "dec2193d-44ba-4e38-a8d4-1d081feeac80",
   "metadata": {},
   "outputs": [],
   "source": []
  },
  {
   "cell_type": "code",
   "execution_count": null,
   "id": "40ef472d-7b28-4571-8e6b-aa42274c49f3",
   "metadata": {},
   "outputs": [],
   "source": []
  }
 ],
 "metadata": {
  "kernelspec": {
   "display_name": "Python 3 (ipykernel)",
   "language": "python",
   "name": "python3"
  },
  "language_info": {
   "codemirror_mode": {
    "name": "ipython",
    "version": 3
   },
   "file_extension": ".py",
   "mimetype": "text/x-python",
   "name": "python",
   "nbconvert_exporter": "python",
   "pygments_lexer": "ipython3",
   "version": "3.11.5"
  }
 },
 "nbformat": 4,
 "nbformat_minor": 5
}
